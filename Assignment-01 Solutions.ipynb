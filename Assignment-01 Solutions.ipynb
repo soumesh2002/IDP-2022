{
 "cells": [
  {
   "cell_type": "markdown",
   "id": "fda076ab",
   "metadata": {},
   "source": [
    "## Assignment - 01 Solutions"
   ]
  },
  {
   "cell_type": "markdown",
   "id": "c98a2735",
   "metadata": {},
   "source": [
    "## Q1"
   ]
  },
  {
   "cell_type": "code",
   "execution_count": 4,
   "id": "345cd129",
   "metadata": {},
   "outputs": [],
   "source": [
    "salaries_and_tenures = [(83000, 8.7), (88000, 8.1), (48000, 0.7),\n",
    "                        (76000, 6), (69000, 6.5), (76000, 7.5), (60000, 2.5), (83000, 10),\n",
    "                        (48000, 1.9), (63000, 4.2)]"
   ]
  },
  {
   "cell_type": "code",
   "execution_count": 5,
   "id": "19b43884",
   "metadata": {},
   "outputs": [],
   "source": [
    "from collections import defaultdict"
   ]
  },
  {
   "cell_type": "code",
   "execution_count": 21,
   "id": "d1540b54",
   "metadata": {},
   "outputs": [],
   "source": [
    "def generate_buckets(data):\n",
    "    _data = defaultdict(list)\n",
    "    for salary, tenure in data:\n",
    "        if tenure < 2:\n",
    "            _data['less than two'].append(salary)\n",
    "        elif tenure < 5:\n",
    "            _data['between two and five'].append(salary)\n",
    "        else:\n",
    "            _data['more than five'].append(salary)\n",
    "    return _data"
   ]
  },
  {
   "cell_type": "code",
   "execution_count": 22,
   "id": "95ef505d",
   "metadata": {},
   "outputs": [],
   "source": [
    "def computeAvgSalary(_data):\n",
    "    return {bucket: sum(salary) / len(salary) for bucket, salary in _data.items()}"
   ]
  },
  {
   "cell_type": "code",
   "execution_count": 25,
   "id": "e3798c01",
   "metadata": {},
   "outputs": [],
   "source": [
    "def main():\n",
    "    buckets = generate_buckets(salaries_and_tenures)\n",
    "    avg = computeAvgSalary(buckets)\n",
    "    for bucket in buckets:\n",
    "        print(f\"{bucket}: {buckets[bucket]} \\nAvg Salary: {avg[bucket]:.2f}\\n\")"
   ]
  },
  {
   "cell_type": "code",
   "execution_count": 26,
   "id": "a33aaacf",
   "metadata": {},
   "outputs": [
    {
     "name": "stdout",
     "output_type": "stream",
     "text": [
      "more than five: [83000, 88000, 76000, 69000, 76000, 83000] \n",
      "Avg Salary: 79166.67\n",
      "\n",
      "less than two: [48000, 48000] \n",
      "Avg Salary: 48000.00\n",
      "\n",
      "between two and five: [60000, 63000] \n",
      "Avg Salary: 61500.00\n",
      "\n"
     ]
    }
   ],
   "source": [
    "if __name__ == \"__main__\":\n",
    "    main()"
   ]
  },
  {
   "cell_type": "markdown",
   "id": "c59e37c0",
   "metadata": {},
   "source": [
    "## Q2"
   ]
  },
  {
   "cell_type": "code",
   "execution_count": 27,
   "id": "974e7491",
   "metadata": {},
   "outputs": [],
   "source": [
    "# dataset same as used above\n",
    "# importing the modules\n",
    "from collections import defaultdict"
   ]
  },
  {
   "cell_type": "code",
   "execution_count": 29,
   "id": "b620ec94",
   "metadata": {},
   "outputs": [],
   "source": [
    "# paidORunpaid functions()\n",
    "def Paid_or_Unpaid(years_experience):\n",
    "    if years_experience < 3.0:\n",
    "        return \"paid\"\n",
    "    elif 3.0 < years_experience < 8.5:\n",
    "        return \"unpaid\"\n",
    "    else:\n",
    "        return \"paid\""
   ]
  },
  {
   "cell_type": "code",
   "execution_count": 35,
   "id": "3e027ca3",
   "metadata": {},
   "outputs": [],
   "source": [
    "# main functions\n",
    "def main():\n",
    "    salaries_and_tenures = [(83000, 8.7), (88000, 8.1), (48000, 0.7),\n",
    "                            (76000, 6), (69000, 6.5), (76000, 7.5), (60000, 2.5), (83000, 10),\n",
    "                            (48000, 1.9), (63000, 4.2)]\n",
    "    salary_per_tenure = defaultdict(list)\n",
    "    for salary, tenure in salaries_and_tenures:\n",
    "        paid_or_unpaid = Paid_or_Unpaid(tenure)\n",
    "        salary_per_tenure[tenure].append(paid_or_unpaid)\n",
    "        \n",
    "    res = {} # empty dictionary\n",
    "    for k, v in salary_per_tenure.items():\n",
    "        res[k] = v[0]\n",
    "    print(res)"
   ]
  },
  {
   "cell_type": "code",
   "execution_count": 36,
   "id": "67da986d",
   "metadata": {},
   "outputs": [
    {
     "name": "stdout",
     "output_type": "stream",
     "text": [
      "{8.7: 'paid', 8.1: 'unpaid', 0.7: 'paid', 6: 'unpaid', 6.5: 'unpaid', 7.5: 'unpaid', 2.5: 'paid', 10: 'paid', 1.9: 'paid', 4.2: 'unpaid'}\n"
     ]
    }
   ],
   "source": [
    "if __name__ == '__main__': main()"
   ]
  },
  {
   "cell_type": "markdown",
   "id": "478f54f9",
   "metadata": {},
   "source": [
    "## Q8"
   ]
  },
  {
   "cell_type": "code",
   "execution_count": 39,
   "id": "b056ba6b",
   "metadata": {},
   "outputs": [],
   "source": [
    "year = [2020, 2019, 2018, 2017, 2016, 2015, 2014, 2013, 2012]\n",
    "no_application_per_year = [921261, 929198, 1043739, 1186454,\n",
    "                            1194938, 1304495, 1356805, 1282000, 479651]"
   ]
  },
  {
   "cell_type": "code",
   "execution_count": 40,
   "id": "34fff5f0",
   "metadata": {},
   "outputs": [],
   "source": [
    "from matplotlib import pyplot as plt"
   ]
  },
  {
   "cell_type": "code",
   "execution_count": 41,
   "id": "a710560f",
   "metadata": {},
   "outputs": [],
   "source": [
    "def main():\n",
    "    plt.scatter(year, no_application_per_year)\n",
    "    plt.title('Application per year')\n",
    "    plt.xlabel(\"Year\")\n",
    "    plt.ylabel(\"No. of Applicants\")\n",
    "    plt.show()"
   ]
  },
  {
   "cell_type": "code",
   "execution_count": 42,
   "id": "1c3248c7",
   "metadata": {},
   "outputs": [
    {
     "data": {
      "image/png": "[encoded data removed]",
      "text/plain": [
       "<Figure size 432x288 with 1 Axes>"
      ]
     },
     "metadata": {
      "needs_background": "light"
     },
     "output_type": "display_data"
    }
   ],
   "source": [
    "if __name__ == '__main__':\n",
    "    main()"
   ]
  },
  {
   "cell_type": "markdown",
   "id": "749aa4e9",
   "metadata": {},
   "source": [
    "## Q9"
   ]
  },
  {
   "cell_type": "code",
   "execution_count": 43,
   "id": "79dddeb0",
   "metadata": {},
   "outputs": [],
   "source": [
    "# range = [-10, 10]"
   ]
  },
  {
   "cell_type": "code",
   "execution_count": 44,
   "id": "79440172",
   "metadata": {},
   "outputs": [],
   "source": [
    "from math import sin\n",
    "from matplotlib import pyplot as plt"
   ]
  },
  {
   "cell_type": "code",
   "execution_count": 49,
   "id": "3a647944",
   "metadata": {},
   "outputs": [],
   "source": [
    "def main():\n",
    "    r = range(-10, 11)\n",
    "    for i in range(1, 5):\n",
    "        plt.plot(r, [x**i * sin(x) for x in r], label = f'$x^{i}$sin(x)')\n",
    "    plt.title('$x^i$ sin(x) chart')\n",
    "    plt.xlabel('x')\n",
    "    plt.legend(loc=9)\n",
    "    plt.savefig('sin-plot.pdf', dpi=1000)\n",
    "    plt.show()"
   ]
  },
  {
   "cell_type": "code",
   "execution_count": 50,
   "id": "e53322ca",
   "metadata": {},
   "outputs": [
    {
     "data": {
      "image/png": "[encoded data removed]",
      "text/plain": [
       "<Figure size 432x288 with 1 Axes>"
      ]
     },
     "metadata": {
      "needs_background": "light"
     },
     "output_type": "display_data"
    }
   ],
   "source": [
    "if __name__ == '__main__':\n",
    "    main()"
   ]
  },
  {
   "cell_type": "markdown",
   "id": "c1f10b3c",
   "metadata": {},
   "source": [
    "## Q10"
   ]
  },
  {
   "cell_type": "code",
   "execution_count": 51,
   "id": "88216555",
   "metadata": {},
   "outputs": [],
   "source": [
    "from collections import Counter\n",
    "import matplotlib.pyplot as plt"
   ]
  },
  {
   "cell_type": "code",
   "execution_count": 54,
   "id": "7cf7a73c",
   "metadata": {},
   "outputs": [
    {
     "name": "stdout",
     "output_type": "stream",
     "text": [
      "male Counter({50: 7, 30: 5, 20: 4, 70: 1, 60: 1})\n",
      "female Counter({20: 6, 40: 6, 60: 4, 50: 2, 30: 2, 70: 1})\n"
     ]
    },
    {
     "data": {
      "image/png": "[encoded data removed]",
      "text/plain": [
       "<Figure size 432x288 with 1 Axes>"
      ]
     },
     "metadata": {
      "needs_background": "light"
     },
     "output_type": "display_data"
    }
   ],
   "source": [
    "def main():\n",
    "    male_age = [53,51,71,31,33,39,52,27,54,30,64,26,21,54,52,20,59,32]\n",
    "    female_age = [53,65,68,21,75,46,24,63,61,24,49,41,39,40,25,54,42,\n",
    "                    32,48,23,23]\n",
    "    \n",
    "    hist_male = Counter(age // 10 * 10 for age in male_age)\n",
    "    hist_female = Counter(age // 10 * 10 for age in female_age)\n",
    "    print('male', hist_male)\n",
    "    print('female', hist_female)\n",
    "    \n",
    "    plt.bar([x + 2.5 for x in hist_male.keys()],\n",
    "           hist_male.values(),\n",
    "           width = 5,\n",
    "           color='orange',\n",
    "           edgecolor=(0,0,0),\n",
    "           label='Male')\n",
    "    \n",
    "    plt.bar([x + 7.5 for x in hist_male.keys()],\n",
    "           hist_male.values(),\n",
    "           width = 5,\n",
    "           color='green',\n",
    "           edgecolor=(0,0,0),\n",
    "           label='Female')\n",
    "    \n",
    "    plt.title(\"age chart\")\n",
    "    plt.axis([10, 90, 0, 10])\n",
    "    plt.xlabel('age buckets')\n",
    "    plt.ylabel('no.of people')\n",
    "    plt.legend(loc=1)\n",
    "    plt.show()\n",
    "    \n",
    "if __name__ == '__main__':\n",
    "    main()"
   ]
  },
  {
   "cell_type": "code",
   "execution_count": 61,
   "id": "59789452",
   "metadata": {},
   "outputs": [],
   "source": [
    "# Q11\n",
    "max_temp = [17, 19, 21, 28, 33, 38, 37, 37, 31, 23, 19, 18]\n",
    "min_temp = [-62, -59, -56, -46, -32, -18, -9, -13, -25, -46, -52, -58]"
   ]
  },
  {
   "cell_type": "code",
   "execution_count": 62,
   "id": "8799d0bf",
   "metadata": {},
   "outputs": [],
   "source": [
    "from matplotlib import pyplot as plt"
   ]
  },
  {
   "cell_type": "code",
   "execution_count": 63,
   "id": "9e7fb1be",
   "metadata": {},
   "outputs": [],
   "source": [
    "def main():\n",
    "    x = [i for i in range(1, 61, 5)]\n",
    "    months = ['Jan', 'Feb', 'Mar', 'Apr', 'May', 'Jun', 'Jul',\n",
    "             'Aug', 'Sep', 'Oct', 'Nov', 'Dec']\n",
    "    \n",
    "    plt.bar([i for i in x], min_temp, width=1, label='Min')\n",
    "    plt.bar([i-1 for i in x], max_temp, width=1, label='Max')\n",
    "    plt.xlabel(\"month\")\n",
    "    plt.ylabel(\"Temp (celsius$^oC$)\")\n",
    "    plt.xticks(x, months)\n",
    "    plt.legend(loc=1)\n",
    "    plt.show()"
   ]
  },
  {
   "cell_type": "code",
   "execution_count": 64,
   "id": "62b838b0",
   "metadata": {},
   "outputs": [
    {
     "data": {
      "image/png": "[encoded data removed]",
      "text/plain": [
       "<Figure size 432x288 with 1 Axes>"
      ]
     },
     "metadata": {
      "needs_background": "light"
     },
     "output_type": "display_data"
    }
   ],
   "source": [
    "if __name__ == '__main__':\n",
    "    main()"
   ]
  },
  {
   "cell_type": "code",
   "execution_count": null,
   "id": "ff042a9d",
   "metadata": {},
   "outputs": [],
   "source": []
  }
 ],
 "metadata": {
  "kernelspec": {
   "display_name": "Python 3 (ipykernel)",
   "language": "python",
   "name": "python3"
  },
  "language_info": {
   "codemirror_mode": {
    "name": "ipython",
    "version": 3
   },
   "file_extension": ".py",
   "mimetype": "text/x-python",
   "name": "python",
   "nbconvert_exporter": "python",
   "pygments_lexer": "ipython3",
   "version": "3.9.12"
  }
 },
 "nbformat": 4,
 "nbformat_minor": 5
}
